{
 "cells": [
  {
   "cell_type": "markdown",
   "metadata": {},
   "source": [
    "### Qdrant, datasets\n",
    "\n",
    "In memory vector search"
   ]
  },
  {
   "cell_type": "code",
   "execution_count": 3,
   "metadata": {},
   "outputs": [],
   "source": [
    "import rich\n",
    "from datasets import Dataset, load_dataset\n",
    "from fastembed import TextEmbedding\n",
    "from qdrant_client import QdrantClient, models"
   ]
  },
  {
   "cell_type": "code",
   "execution_count": 4,
   "metadata": {},
   "outputs": [
    {
     "name": "stderr",
     "output_type": "stream",
     "text": [
      "Repo card metadata block was not found. Setting CardData to empty.\n"
     ]
    }
   ],
   "source": [
    "issues_dataset = load_dataset(\"lewtun/github-issues\", split=\"train\")"
   ]
  },
  {
   "cell_type": "code",
   "execution_count": 5,
   "metadata": {},
   "outputs": [],
   "source": [
    "issues_dataset = issues_dataset.filter(\n",
    "    lambda x: (x[\"is_pull_request\"] is False and len(x[\"comments\"]) > 0)\n",
    ")\n",
    "\n",
    "columns = issues_dataset.column_names\n",
    "columns_to_keep = [\"title\", \"body\", \"html_url\", \"comments\"]\n",
    "columns_to_remove = set(columns_to_keep).symmetric_difference(columns)\n",
    "issues_dataset = issues_dataset.remove_columns(columns_to_remove)\n"
   ]
  },
  {
   "cell_type": "code",
   "execution_count": 6,
   "metadata": {},
   "outputs": [],
   "source": [
    "issues_dataset.set_format(\"pandas\")\n",
    "df = issues_dataset[:]\n",
    "# Split each comment into an individual record\n",
    "comments_df = df.explode(\"comments\", ignore_index=True)"
   ]
  },
  {
   "cell_type": "code",
   "execution_count": 7,
   "metadata": {},
   "outputs": [
    {
     "name": "stderr",
     "output_type": "stream",
     "text": [
      "Map: 100%|██████████| 2964/2964 [00:00<00:00, 25067.63 examples/s]\n",
      "Filter: 100%|██████████| 2964/2964 [00:00<00:00, 264689.09 examples/s]\n"
     ]
    }
   ],
   "source": [
    "comments_dataset = Dataset.from_pandas(comments_df)\n",
    "\n",
    "comments_dataset = comments_dataset.map(\n",
    "    lambda x: {\"comment_length\": len(x[\"comments\"].split())}\n",
    ")\n",
    "# Filter short comments\n",
    "comments_dataset = comments_dataset.filter(lambda x: x[\"comment_length\"] > 15)"
   ]
  },
  {
   "cell_type": "code",
   "execution_count": 8,
   "metadata": {},
   "outputs": [
    {
     "name": "stderr",
     "output_type": "stream",
     "text": [
      "Map: 100%|██████████| 2175/2175 [00:00<00:00, 22389.69 examples/s]\n"
     ]
    }
   ],
   "source": [
    "def concatenate_text(examples):\n",
    "    return {\n",
    "        \"text\": examples[\"title\"]\n",
    "        + \" \\n \"\n",
    "        + examples[\"body\"]\n",
    "        + \" \\n \"\n",
    "        + examples[\"comments\"]\n",
    "    }\n",
    "\n",
    "\n",
    "comments_dataset = comments_dataset.map(concatenate_text)"
   ]
  },
  {
   "cell_type": "code",
   "execution_count": 9,
   "metadata": {},
   "outputs": [
    {
     "name": "stderr",
     "output_type": "stream",
     "text": [
      "Fetching 5 files: 100%|██████████| 5/5 [00:00<00:00, 33770.56it/s]\n"
     ]
    }
   ],
   "source": [
    "client = QdrantClient(\":memory:\")\n",
    "embedding_model = TextEmbedding()"
   ]
  },
  {
   "cell_type": "code",
   "execution_count": 10,
   "metadata": {},
   "outputs": [
    {
     "data": {
      "text/plain": [
       "True"
      ]
     },
     "execution_count": 10,
     "metadata": {},
     "output_type": "execute_result"
    }
   ],
   "source": [
    "client.create_collection(\n",
    "    collection_name=\"github_issues\",\n",
    "    vectors_config=models.VectorParams(\n",
    "        size=384,  # Vector size is defined by used model\n",
    "        distance=models.Distance.COSINE,\n",
    "    ),\n",
    ")"
   ]
  },
  {
   "cell_type": "code",
   "execution_count": 11,
   "metadata": {},
   "outputs": [],
   "source": [
    "client.upload_points(\n",
    "    collection_name=\"github_issues\",\n",
    "    points=[\n",
    "        models.PointStruct(id=idx, vector=list(embedding_model.embed(doc[\"text\"]))[0], payload=doc)\n",
    "        for idx, doc in enumerate(comments_dataset)\n",
    "    ],\n",
    ")"
   ]
  },
  {
   "cell_type": "code",
   "execution_count": 12,
   "metadata": {},
   "outputs": [
    {
     "data": {
      "text/html": [
       "<pre style=\"white-space:pre;overflow-x:auto;line-height:normal;font-family:Menlo,'DejaVu Sans Mono',consolas,'Courier New',monospace\"><span style=\"font-weight: bold\">{</span>\n",
       "    <span style=\"color: #008000; text-decoration-color: #008000\">'html_url'</span>: <span style=\"color: #008000; text-decoration-color: #008000\">'https://github.com/huggingface/datasets/issues/824'</span>,\n",
       "    <span style=\"color: #008000; text-decoration-color: #008000\">'title'</span>: <span style=\"color: #008000; text-decoration-color: #008000\">'Discussion using datasets in offline mode'</span>,\n",
       "    <span style=\"color: #008000; text-decoration-color: #008000\">'comments'</span>: <span style=\"color: #008000; text-decoration-color: #008000\">'I opened a PR that allows to reload modules that have already been loaded once even if there\\'s no</span>\n",
       "<span style=\"color: #008000; text-decoration-color: #008000\">internet.\\r\\n\\r\\nLet me know if you know other ways that can make the offline mode experience better. I\\'d be happy</span>\n",
       "<span style=\"color: #008000; text-decoration-color: #008000\">to add them :) \\r\\n\\r\\nI already note the \"freeze\" modules option, to prevent local modules updates. It would be a </span>\n",
       "<span style=\"color: #008000; text-decoration-color: #008000\">cool feature.\\r\\n\\r\\n----------\\r\\n\\r\\n&gt; @mandubian\\'s second bullet point suggests that there\\'s a workaround </span>\n",
       "<span style=\"color: #008000; text-decoration-color: #008000\">allowing you to use your offline (custom?) dataset with `datasets`. Could you please elaborate on how that should </span>\n",
       "<span style=\"color: #008000; text-decoration-color: #008000\">look like?\\r\\n\\r\\nIndeed `load_dataset` allows to load remote dataset script (squad, glue, etc.) but also you own </span>\n",
       "<span style=\"color: #008000; text-decoration-color: #008000\">local ones.\\r\\nFor example if you have a dataset script at `./my_dataset/my_dataset.py` then you can </span>\n",
       "<span style=\"color: #008000; text-decoration-color: #008000\">do\\r\\n```python\\r\\nload_dataset(\"./my_dataset\")\\r\\n```\\r\\nand the dataset script will generate your dataset once </span>\n",
       "<span style=\"color: #008000; text-decoration-color: #008000\">and for all.\\r\\n\\r\\n----------\\r\\n\\r\\nAbout I\\'m looking into having `csv`, `json`, `text`, `pandas` dataset </span>\n",
       "<span style=\"color: #008000; text-decoration-color: #008000\">builders already included in the `datasets` package, so that they are available offline by default, as opposed to </span>\n",
       "<span style=\"color: #008000; text-decoration-color: #008000\">the other datasets that require the script to be downloaded.\\r\\ncf #1724 '</span>,\n",
       "    <span style=\"color: #008000; text-decoration-color: #008000\">'body'</span>: <span style=\"color: #008000; text-decoration-color: #008000\">'`datasets.load_dataset(\"csv\", ...)` breaks if you have no connection (There is already this issue </span>\n",
       "<span style=\"color: #008000; text-decoration-color: #008000\">https://github.com/huggingface/datasets/issues/761 about it). It seems to be the same for metrics too.\\r\\n\\r\\nI </span>\n",
       "<span style=\"color: #008000; text-decoration-color: #008000\">create this ticket to discuss a bit and gather what you have in mind or other propositions.\\r\\n\\r\\nHere are some </span>\n",
       "<span style=\"color: #008000; text-decoration-color: #008000\">points to open discussion:\\r\\n- if you want to prepare your code/datasets on your machine (having internet </span>\n",
       "<span style=\"color: #008000; text-decoration-color: #008000\">connexion) but run it on another offline machine (not having internet connexion), it won\\'t work as is, even if you</span>\n",
       "<span style=\"color: #008000; text-decoration-color: #008000\">have all files locally on this machine.\\r\\n- AFAIK, you can make it work if you manually put the python files </span>\n",
       "<span style=\"color: #008000; text-decoration-color: #008000\">(csv.py for example) on this offline machine and change your code to `datasets.load_dataset(\"MY_PATH/csv.py\", </span>\n",
       "<span style=\"color: #008000; text-decoration-color: #008000\">...)`. But it would be much better if you could run ths same code without modification if files are available </span>\n",
       "<span style=\"color: #008000; text-decoration-color: #008000\">locally.\\r\\n- I\\'ve also been considering the requirement of downloading Python code and execute on your machine to</span>\n",
       "<span style=\"color: #008000; text-decoration-color: #008000\">use datasets. This can be an issue in a professional context. Downloading a CSV/H5 file is acceptable, downloading </span>\n",
       "<span style=\"color: #008000; text-decoration-color: #008000\">an executable script can open many security issues. We certainly need a mechanism to at least \"freeze\" the dataset </span>\n",
       "<span style=\"color: #008000; text-decoration-color: #008000\">code you retrieved once so that you can review it if you want and then be sure you use this one everywhere and not </span>\n",
       "<span style=\"color: #008000; text-decoration-color: #008000\">a version dowloaded from internet.\\r\\n \\r\\nWDYT? (thks)\\r\\n\\r\\n'</span>,\n",
       "    <span style=\"color: #008000; text-decoration-color: #008000\">'comment_length'</span>: <span style=\"color: #008080; text-decoration-color: #008080; font-weight: bold\">179</span>,\n",
       "    <span style=\"color: #008000; text-decoration-color: #008000\">'text'</span>: <span style=\"color: #008000; text-decoration-color: #008000\">'Discussion using datasets in offline mode \\n `datasets.load_dataset(\"csv\", ...)` breaks if you have no</span>\n",
       "<span style=\"color: #008000; text-decoration-color: #008000\">connection (There is already this issue https://github.com/huggingface/datasets/issues/761 about it). It seems to </span>\n",
       "<span style=\"color: #008000; text-decoration-color: #008000\">be the same for metrics too.\\r\\n\\r\\nI create this ticket to discuss a bit and gather what you have in mind or other</span>\n",
       "<span style=\"color: #008000; text-decoration-color: #008000\">propositions.\\r\\n\\r\\nHere are some points to open discussion:\\r\\n- if you want to prepare your code/datasets on </span>\n",
       "<span style=\"color: #008000; text-decoration-color: #008000\">your machine (having internet connexion) but run it on another offline machine (not having internet connexion), it </span>\n",
       "<span style=\"color: #008000; text-decoration-color: #008000\">won\\'t work as is, even if you have all files locally on this machine.\\r\\n- AFAIK, you can make it work if you </span>\n",
       "<span style=\"color: #008000; text-decoration-color: #008000\">manually put the python files (csv.py for example) on this offline machine and change your code to </span>\n",
       "<span style=\"color: #008000; text-decoration-color: #008000\">`datasets.load_dataset(\"MY_PATH/csv.py\", ...)`. But it would be much better if you could run ths same code without </span>\n",
       "<span style=\"color: #008000; text-decoration-color: #008000\">modification if files are available locally.\\r\\n- I\\'ve also been considering the requirement of downloading Python</span>\n",
       "<span style=\"color: #008000; text-decoration-color: #008000\">code and execute on your machine to use datasets. This can be an issue in a professional context. Downloading a </span>\n",
       "<span style=\"color: #008000; text-decoration-color: #008000\">CSV/H5 file is acceptable, downloading an executable script can open many security issues. We certainly need a </span>\n",
       "<span style=\"color: #008000; text-decoration-color: #008000\">mechanism to at least \"freeze\" the dataset code you retrieved once so that you can review it if you want and then </span>\n",
       "<span style=\"color: #008000; text-decoration-color: #008000\">be sure you use this one everywhere and not a version dowloaded from internet.\\r\\n \\r\\nWDYT? (thks)\\r\\n\\r\\n \\n I </span>\n",
       "<span style=\"color: #008000; text-decoration-color: #008000\">opened a PR that allows to reload modules that have already been loaded once even if there\\'s no </span>\n",
       "<span style=\"color: #008000; text-decoration-color: #008000\">internet.\\r\\n\\r\\nLet me know if you know other ways that can make the offline mode experience better. I\\'d be happy</span>\n",
       "<span style=\"color: #008000; text-decoration-color: #008000\">to add them :) \\r\\n\\r\\nI already note the \"freeze\" modules option, to prevent local modules updates. It would be a </span>\n",
       "<span style=\"color: #008000; text-decoration-color: #008000\">cool feature.\\r\\n\\r\\n----------\\r\\n\\r\\n&gt; @mandubian\\'s second bullet point suggests that there\\'s a workaround </span>\n",
       "<span style=\"color: #008000; text-decoration-color: #008000\">allowing you to use your offline (custom?) dataset with `datasets`. Could you please elaborate on how that should </span>\n",
       "<span style=\"color: #008000; text-decoration-color: #008000\">look like?\\r\\n\\r\\nIndeed `load_dataset` allows to load remote dataset script (squad, glue, etc.) but also you own </span>\n",
       "<span style=\"color: #008000; text-decoration-color: #008000\">local ones.\\r\\nFor example if you have a dataset script at `./my_dataset/my_dataset.py` then you can </span>\n",
       "<span style=\"color: #008000; text-decoration-color: #008000\">do\\r\\n```python\\r\\nload_dataset(\"./my_dataset\")\\r\\n```\\r\\nand the dataset script will generate your dataset once </span>\n",
       "<span style=\"color: #008000; text-decoration-color: #008000\">and for all.\\r\\n\\r\\n----------\\r\\n\\r\\nAbout I\\'m looking into having `csv`, `json`, `text`, `pandas` dataset </span>\n",
       "<span style=\"color: #008000; text-decoration-color: #008000\">builders already included in the `datasets` package, so that they are available offline by default, as opposed to </span>\n",
       "<span style=\"color: #008000; text-decoration-color: #008000\">the other datasets that require the script to be downloaded.\\r\\ncf #1724 '</span>\n",
       "<span style=\"font-weight: bold\">}</span>\n",
       "score: <span style=\"color: #008080; text-decoration-color: #008080; font-weight: bold\">0.8590644001960754</span>\n",
       "</pre>\n"
      ],
      "text/plain": [
       "\u001b[1m{\u001b[0m\n",
       "    \u001b[32m'html_url'\u001b[0m: \u001b[32m'https://github.com/huggingface/datasets/issues/824'\u001b[0m,\n",
       "    \u001b[32m'title'\u001b[0m: \u001b[32m'Discussion using datasets in offline mode'\u001b[0m,\n",
       "    \u001b[32m'comments'\u001b[0m: \u001b[32m'I opened a PR that allows to reload modules that have already been loaded once even if there\\'s no\u001b[0m\n",
       "\u001b[32minternet.\\r\\n\\r\\nLet me know if you know other ways that can make the offline mode experience better. I\\'d be happy\u001b[0m\n",
       "\u001b[32mto add them :\u001b[0m\u001b[32m)\u001b[0m\u001b[32m \\r\\n\\r\\nI already note the \"freeze\" modules option, to prevent local modules updates. It would be a \u001b[0m\n",
       "\u001b[32mcool feature.\\r\\n\\r\\n----------\\r\\n\\r\\n> @mandubian\\'s second bullet point suggests that there\\'s a workaround \u001b[0m\n",
       "\u001b[32mallowing you to use your offline \u001b[0m\u001b[32m(\u001b[0m\u001b[32mcustom?\u001b[0m\u001b[32m)\u001b[0m\u001b[32m dataset with `datasets`. Could you please elaborate on how that should \u001b[0m\n",
       "\u001b[32mlook like?\\r\\n\\r\\nIndeed `load_dataset` allows to load remote dataset script \u001b[0m\u001b[32m(\u001b[0m\u001b[32msquad, glue, etc.\u001b[0m\u001b[32m)\u001b[0m\u001b[32m but also you own \u001b[0m\n",
       "\u001b[32mlocal ones.\\r\\nFor example if you have a dataset script at `./my_dataset/my_dataset.py` then you can \u001b[0m\n",
       "\u001b[32mdo\\r\\n```python\\r\\nload_dataset\u001b[0m\u001b[32m(\u001b[0m\u001b[32m\"./my_dataset\"\u001b[0m\u001b[32m)\u001b[0m\u001b[32m\\r\\n```\\r\\nand the dataset script will generate your dataset once \u001b[0m\n",
       "\u001b[32mand for all.\\r\\n\\r\\n----------\\r\\n\\r\\nAbout I\\'m looking into having `csv`, `json`, `text`, `pandas` dataset \u001b[0m\n",
       "\u001b[32mbuilders already included in the `datasets` package, so that they are available offline by default, as opposed to \u001b[0m\n",
       "\u001b[32mthe other datasets that require the script to be downloaded.\\r\\ncf #1724 '\u001b[0m,\n",
       "    \u001b[32m'body'\u001b[0m: \u001b[32m'`datasets.load_dataset\u001b[0m\u001b[32m(\u001b[0m\u001b[32m\"csv\", ...\u001b[0m\u001b[32m)\u001b[0m\u001b[32m` breaks if you have no connection \u001b[0m\u001b[32m(\u001b[0m\u001b[32mThere is already this issue \u001b[0m\n",
       "\u001b[32mhttps://github.com/huggingface/datasets/issues/761 about it\u001b[0m\u001b[32m)\u001b[0m\u001b[32m. It seems to be the same for metrics too.\\r\\n\\r\\nI \u001b[0m\n",
       "\u001b[32mcreate this ticket to discuss a bit and gather what you have in mind or other propositions.\\r\\n\\r\\nHere are some \u001b[0m\n",
       "\u001b[32mpoints to open discussion:\\r\\n- if you want to prepare your code/datasets on your machine \u001b[0m\u001b[32m(\u001b[0m\u001b[32mhaving internet \u001b[0m\n",
       "\u001b[32mconnexion\u001b[0m\u001b[32m)\u001b[0m\u001b[32m but run it on another offline machine \u001b[0m\u001b[32m(\u001b[0m\u001b[32mnot having internet connexion\u001b[0m\u001b[32m)\u001b[0m\u001b[32m, it won\\'t work as is, even if you\u001b[0m\n",
       "\u001b[32mhave all files locally on this machine.\\r\\n- AFAIK, you can make it work if you manually put the python files \u001b[0m\n",
       "\u001b[32m(\u001b[0m\u001b[32mcsv.py for example\u001b[0m\u001b[32m)\u001b[0m\u001b[32m on this offline machine and change your code to `datasets.load_dataset\u001b[0m\u001b[32m(\u001b[0m\u001b[32m\"MY_PATH/csv.py\", \u001b[0m\n",
       "\u001b[32m...\u001b[0m\u001b[32m)\u001b[0m\u001b[32m`. But it would be much better if you could run ths same code without modification if files are available \u001b[0m\n",
       "\u001b[32mlocally.\\r\\n- I\\'ve also been considering the requirement of downloading Python code and execute on your machine to\u001b[0m\n",
       "\u001b[32muse datasets. This can be an issue in a professional context. Downloading a CSV/H5 file is acceptable, downloading \u001b[0m\n",
       "\u001b[32man executable script can open many security issues. We certainly need a mechanism to at least \"freeze\" the dataset \u001b[0m\n",
       "\u001b[32mcode you retrieved once so that you can review it if you want and then be sure you use this one everywhere and not \u001b[0m\n",
       "\u001b[32ma version dowloaded from internet.\\r\\n \\r\\nWDYT? \u001b[0m\u001b[32m(\u001b[0m\u001b[32mthks\u001b[0m\u001b[32m)\u001b[0m\u001b[32m\\r\\n\\r\\n'\u001b[0m,\n",
       "    \u001b[32m'comment_length'\u001b[0m: \u001b[1;36m179\u001b[0m,\n",
       "    \u001b[32m'text'\u001b[0m: \u001b[32m'Discussion using datasets in offline mode \\n `datasets.load_dataset\u001b[0m\u001b[32m(\u001b[0m\u001b[32m\"csv\", ...\u001b[0m\u001b[32m)\u001b[0m\u001b[32m` breaks if you have no\u001b[0m\n",
       "\u001b[32mconnection \u001b[0m\u001b[32m(\u001b[0m\u001b[32mThere is already this issue https://github.com/huggingface/datasets/issues/761 about it\u001b[0m\u001b[32m)\u001b[0m\u001b[32m. It seems to \u001b[0m\n",
       "\u001b[32mbe the same for metrics too.\\r\\n\\r\\nI create this ticket to discuss a bit and gather what you have in mind or other\u001b[0m\n",
       "\u001b[32mpropositions.\\r\\n\\r\\nHere are some points to open discussion:\\r\\n- if you want to prepare your code/datasets on \u001b[0m\n",
       "\u001b[32myour machine \u001b[0m\u001b[32m(\u001b[0m\u001b[32mhaving internet connexion\u001b[0m\u001b[32m)\u001b[0m\u001b[32m but run it on another offline machine \u001b[0m\u001b[32m(\u001b[0m\u001b[32mnot having internet connexion\u001b[0m\u001b[32m)\u001b[0m\u001b[32m, it \u001b[0m\n",
       "\u001b[32mwon\\'t work as is, even if you have all files locally on this machine.\\r\\n- AFAIK, you can make it work if you \u001b[0m\n",
       "\u001b[32mmanually put the python files \u001b[0m\u001b[32m(\u001b[0m\u001b[32mcsv.py for example\u001b[0m\u001b[32m)\u001b[0m\u001b[32m on this offline machine and change your code to \u001b[0m\n",
       "\u001b[32m`datasets.load_dataset\u001b[0m\u001b[32m(\u001b[0m\u001b[32m\"MY_PATH/csv.py\", ...\u001b[0m\u001b[32m)\u001b[0m\u001b[32m`. But it would be much better if you could run ths same code without \u001b[0m\n",
       "\u001b[32mmodification if files are available locally.\\r\\n- I\\'ve also been considering the requirement of downloading Python\u001b[0m\n",
       "\u001b[32mcode and execute on your machine to use datasets. This can be an issue in a professional context. Downloading a \u001b[0m\n",
       "\u001b[32mCSV/H5 file is acceptable, downloading an executable script can open many security issues. We certainly need a \u001b[0m\n",
       "\u001b[32mmechanism to at least \"freeze\" the dataset code you retrieved once so that you can review it if you want and then \u001b[0m\n",
       "\u001b[32mbe sure you use this one everywhere and not a version dowloaded from internet.\\r\\n \\r\\nWDYT? \u001b[0m\u001b[32m(\u001b[0m\u001b[32mthks\u001b[0m\u001b[32m)\u001b[0m\u001b[32m\\r\\n\\r\\n \\n I \u001b[0m\n",
       "\u001b[32mopened a PR that allows to reload modules that have already been loaded once even if there\\'s no \u001b[0m\n",
       "\u001b[32minternet.\\r\\n\\r\\nLet me know if you know other ways that can make the offline mode experience better. I\\'d be happy\u001b[0m\n",
       "\u001b[32mto add them :\u001b[0m\u001b[32m)\u001b[0m\u001b[32m \\r\\n\\r\\nI already note the \"freeze\" modules option, to prevent local modules updates. It would be a \u001b[0m\n",
       "\u001b[32mcool feature.\\r\\n\\r\\n----------\\r\\n\\r\\n> @mandubian\\'s second bullet point suggests that there\\'s a workaround \u001b[0m\n",
       "\u001b[32mallowing you to use your offline \u001b[0m\u001b[32m(\u001b[0m\u001b[32mcustom?\u001b[0m\u001b[32m)\u001b[0m\u001b[32m dataset with `datasets`. Could you please elaborate on how that should \u001b[0m\n",
       "\u001b[32mlook like?\\r\\n\\r\\nIndeed `load_dataset` allows to load remote dataset script \u001b[0m\u001b[32m(\u001b[0m\u001b[32msquad, glue, etc.\u001b[0m\u001b[32m)\u001b[0m\u001b[32m but also you own \u001b[0m\n",
       "\u001b[32mlocal ones.\\r\\nFor example if you have a dataset script at `./my_dataset/my_dataset.py` then you can \u001b[0m\n",
       "\u001b[32mdo\\r\\n```python\\r\\nload_dataset\u001b[0m\u001b[32m(\u001b[0m\u001b[32m\"./my_dataset\"\u001b[0m\u001b[32m)\u001b[0m\u001b[32m\\r\\n```\\r\\nand the dataset script will generate your dataset once \u001b[0m\n",
       "\u001b[32mand for all.\\r\\n\\r\\n----------\\r\\n\\r\\nAbout I\\'m looking into having `csv`, `json`, `text`, `pandas` dataset \u001b[0m\n",
       "\u001b[32mbuilders already included in the `datasets` package, so that they are available offline by default, as opposed to \u001b[0m\n",
       "\u001b[32mthe other datasets that require the script to be downloaded.\\r\\ncf #1724 '\u001b[0m\n",
       "\u001b[1m}\u001b[0m\n",
       "score: \u001b[1;36m0.8590644001960754\u001b[0m\n"
      ]
     },
     "metadata": {},
     "output_type": "display_data"
    },
    {
     "data": {
      "text/html": [
       "<pre style=\"white-space:pre;overflow-x:auto;line-height:normal;font-family:Menlo,'DejaVu Sans Mono',consolas,'Courier New',monospace\"><span style=\"font-weight: bold\">{</span>\n",
       "    <span style=\"color: #008000; text-decoration-color: #008000\">'html_url'</span>: <span style=\"color: #008000; text-decoration-color: #008000\">'https://github.com/huggingface/datasets/issues/824'</span>,\n",
       "    <span style=\"color: #008000; text-decoration-color: #008000\">'title'</span>: <span style=\"color: #008000; text-decoration-color: #008000\">'Discussion using datasets in offline mode'</span>,\n",
       "    <span style=\"color: #008000; text-decoration-color: #008000\">'comments'</span>: <span style=\"color: #008000; text-decoration-color: #008000\">'here is my way to load a dataset offline, but it **requires** an online machine\\r\\n1. (online </span>\n",
       "<span style=\"color: #008000; text-decoration-color: #008000\">machine)\\r\\n```\\r\\nimport datasets\\r\\ndata = </span>\n",
       "<span style=\"color: #008000; text-decoration-color: #008000\">datasets.load_dataset(...)\\r\\ndata.save_to_disk(/YOUR/DATASET/DIR)\\r\\n```\\r\\n2. copy the dir from online to the </span>\n",
       "<span style=\"color: #008000; text-decoration-color: #008000\">offline machine\\r\\n3. (offline machine)\\r\\n```\\r\\nimport datasets\\r\\ndata = </span>\n",
       "<span style=\"color: #008000; text-decoration-color: #008000\">datasets.load_from_disk(/SAVED/DATA/DIR)\\r\\n```\\r\\n\\r\\nHTH.'</span>,\n",
       "    <span style=\"color: #008000; text-decoration-color: #008000\">'body'</span>: <span style=\"color: #008000; text-decoration-color: #008000\">'`datasets.load_dataset(\"csv\", ...)` breaks if you have no connection (There is already this issue </span>\n",
       "<span style=\"color: #008000; text-decoration-color: #008000\">https://github.com/huggingface/datasets/issues/761 about it). It seems to be the same for metrics too.\\r\\n\\r\\nI </span>\n",
       "<span style=\"color: #008000; text-decoration-color: #008000\">create this ticket to discuss a bit and gather what you have in mind or other propositions.\\r\\n\\r\\nHere are some </span>\n",
       "<span style=\"color: #008000; text-decoration-color: #008000\">points to open discussion:\\r\\n- if you want to prepare your code/datasets on your machine (having internet </span>\n",
       "<span style=\"color: #008000; text-decoration-color: #008000\">connexion) but run it on another offline machine (not having internet connexion), it won\\'t work as is, even if you</span>\n",
       "<span style=\"color: #008000; text-decoration-color: #008000\">have all files locally on this machine.\\r\\n- AFAIK, you can make it work if you manually put the python files </span>\n",
       "<span style=\"color: #008000; text-decoration-color: #008000\">(csv.py for example) on this offline machine and change your code to `datasets.load_dataset(\"MY_PATH/csv.py\", </span>\n",
       "<span style=\"color: #008000; text-decoration-color: #008000\">...)`. But it would be much better if you could run ths same code without modification if files are available </span>\n",
       "<span style=\"color: #008000; text-decoration-color: #008000\">locally.\\r\\n- I\\'ve also been considering the requirement of downloading Python code and execute on your machine to</span>\n",
       "<span style=\"color: #008000; text-decoration-color: #008000\">use datasets. This can be an issue in a professional context. Downloading a CSV/H5 file is acceptable, downloading </span>\n",
       "<span style=\"color: #008000; text-decoration-color: #008000\">an executable script can open many security issues. We certainly need a mechanism to at least \"freeze\" the dataset </span>\n",
       "<span style=\"color: #008000; text-decoration-color: #008000\">code you retrieved once so that you can review it if you want and then be sure you use this one everywhere and not </span>\n",
       "<span style=\"color: #008000; text-decoration-color: #008000\">a version dowloaded from internet.\\r\\n \\r\\nWDYT? (thks)\\r\\n\\r\\n'</span>,\n",
       "    <span style=\"color: #008000; text-decoration-color: #008000\">'comment_length'</span>: <span style=\"color: #008080; text-decoration-color: #008080; font-weight: bold\">47</span>,\n",
       "    <span style=\"color: #008000; text-decoration-color: #008000\">'text'</span>: <span style=\"color: #008000; text-decoration-color: #008000\">'Discussion using datasets in offline mode \\n `datasets.load_dataset(\"csv\", ...)` breaks if you have no</span>\n",
       "<span style=\"color: #008000; text-decoration-color: #008000\">connection (There is already this issue https://github.com/huggingface/datasets/issues/761 about it). It seems to </span>\n",
       "<span style=\"color: #008000; text-decoration-color: #008000\">be the same for metrics too.\\r\\n\\r\\nI create this ticket to discuss a bit and gather what you have in mind or other</span>\n",
       "<span style=\"color: #008000; text-decoration-color: #008000\">propositions.\\r\\n\\r\\nHere are some points to open discussion:\\r\\n- if you want to prepare your code/datasets on </span>\n",
       "<span style=\"color: #008000; text-decoration-color: #008000\">your machine (having internet connexion) but run it on another offline machine (not having internet connexion), it </span>\n",
       "<span style=\"color: #008000; text-decoration-color: #008000\">won\\'t work as is, even if you have all files locally on this machine.\\r\\n- AFAIK, you can make it work if you </span>\n",
       "<span style=\"color: #008000; text-decoration-color: #008000\">manually put the python files (csv.py for example) on this offline machine and change your code to </span>\n",
       "<span style=\"color: #008000; text-decoration-color: #008000\">`datasets.load_dataset(\"MY_PATH/csv.py\", ...)`. But it would be much better if you could run ths same code without </span>\n",
       "<span style=\"color: #008000; text-decoration-color: #008000\">modification if files are available locally.\\r\\n- I\\'ve also been considering the requirement of downloading Python</span>\n",
       "<span style=\"color: #008000; text-decoration-color: #008000\">code and execute on your machine to use datasets. This can be an issue in a professional context. Downloading a </span>\n",
       "<span style=\"color: #008000; text-decoration-color: #008000\">CSV/H5 file is acceptable, downloading an executable script can open many security issues. We certainly need a </span>\n",
       "<span style=\"color: #008000; text-decoration-color: #008000\">mechanism to at least \"freeze\" the dataset code you retrieved once so that you can review it if you want and then </span>\n",
       "<span style=\"color: #008000; text-decoration-color: #008000\">be sure you use this one everywhere and not a version dowloaded from internet.\\r\\n \\r\\nWDYT? (thks)\\r\\n\\r\\n \\n here</span>\n",
       "<span style=\"color: #008000; text-decoration-color: #008000\">is my way to load a dataset offline, but it **requires** an online machine\\r\\n1. (online machine)\\r\\n```\\r\\nimport </span>\n",
       "<span style=\"color: #008000; text-decoration-color: #008000\">datasets\\r\\ndata = datasets.load_dataset(...)\\r\\ndata.save_to_disk(/YOUR/DATASET/DIR)\\r\\n```\\r\\n2. copy the dir </span>\n",
       "<span style=\"color: #008000; text-decoration-color: #008000\">from online to the offline machine\\r\\n3. (offline machine)\\r\\n```\\r\\nimport datasets\\r\\ndata = </span>\n",
       "<span style=\"color: #008000; text-decoration-color: #008000\">datasets.load_from_disk(/SAVED/DATA/DIR)\\r\\n```\\r\\n\\r\\nHTH.'</span>\n",
       "<span style=\"font-weight: bold\">}</span>\n",
       "score: <span style=\"color: #008080; text-decoration-color: #008080; font-weight: bold\">0.8566680550575256</span>\n",
       "</pre>\n"
      ],
      "text/plain": [
       "\u001b[1m{\u001b[0m\n",
       "    \u001b[32m'html_url'\u001b[0m: \u001b[32m'https://github.com/huggingface/datasets/issues/824'\u001b[0m,\n",
       "    \u001b[32m'title'\u001b[0m: \u001b[32m'Discussion using datasets in offline mode'\u001b[0m,\n",
       "    \u001b[32m'comments'\u001b[0m: \u001b[32m'here is my way to load a dataset offline, but it **requires** an online machine\\r\\n1. \u001b[0m\u001b[32m(\u001b[0m\u001b[32monline \u001b[0m\n",
       "\u001b[32mmachine\u001b[0m\u001b[32m)\u001b[0m\u001b[32m\\r\\n```\\r\\nimport datasets\\r\\ndata = \u001b[0m\n",
       "\u001b[32mdatasets.load_dataset\u001b[0m\u001b[32m(\u001b[0m\u001b[32m...\u001b[0m\u001b[32m)\u001b[0m\u001b[32m\\r\\ndata.save_to_disk\u001b[0m\u001b[32m(\u001b[0m\u001b[32m/YOUR/DATASET/DIR\u001b[0m\u001b[32m)\u001b[0m\u001b[32m\\r\\n```\\r\\n2. copy the dir from online to the \u001b[0m\n",
       "\u001b[32moffline machine\\r\\n3. \u001b[0m\u001b[32m(\u001b[0m\u001b[32moffline machine\u001b[0m\u001b[32m)\u001b[0m\u001b[32m\\r\\n```\\r\\nimport datasets\\r\\ndata = \u001b[0m\n",
       "\u001b[32mdatasets.load_from_disk\u001b[0m\u001b[32m(\u001b[0m\u001b[32m/SAVED/DATA/DIR\u001b[0m\u001b[32m)\u001b[0m\u001b[32m\\r\\n```\\r\\n\\r\\nHTH.'\u001b[0m,\n",
       "    \u001b[32m'body'\u001b[0m: \u001b[32m'`datasets.load_dataset\u001b[0m\u001b[32m(\u001b[0m\u001b[32m\"csv\", ...\u001b[0m\u001b[32m)\u001b[0m\u001b[32m` breaks if you have no connection \u001b[0m\u001b[32m(\u001b[0m\u001b[32mThere is already this issue \u001b[0m\n",
       "\u001b[32mhttps://github.com/huggingface/datasets/issues/761 about it\u001b[0m\u001b[32m)\u001b[0m\u001b[32m. It seems to be the same for metrics too.\\r\\n\\r\\nI \u001b[0m\n",
       "\u001b[32mcreate this ticket to discuss a bit and gather what you have in mind or other propositions.\\r\\n\\r\\nHere are some \u001b[0m\n",
       "\u001b[32mpoints to open discussion:\\r\\n- if you want to prepare your code/datasets on your machine \u001b[0m\u001b[32m(\u001b[0m\u001b[32mhaving internet \u001b[0m\n",
       "\u001b[32mconnexion\u001b[0m\u001b[32m)\u001b[0m\u001b[32m but run it on another offline machine \u001b[0m\u001b[32m(\u001b[0m\u001b[32mnot having internet connexion\u001b[0m\u001b[32m)\u001b[0m\u001b[32m, it won\\'t work as is, even if you\u001b[0m\n",
       "\u001b[32mhave all files locally on this machine.\\r\\n- AFAIK, you can make it work if you manually put the python files \u001b[0m\n",
       "\u001b[32m(\u001b[0m\u001b[32mcsv.py for example\u001b[0m\u001b[32m)\u001b[0m\u001b[32m on this offline machine and change your code to `datasets.load_dataset\u001b[0m\u001b[32m(\u001b[0m\u001b[32m\"MY_PATH/csv.py\", \u001b[0m\n",
       "\u001b[32m...\u001b[0m\u001b[32m)\u001b[0m\u001b[32m`. But it would be much better if you could run ths same code without modification if files are available \u001b[0m\n",
       "\u001b[32mlocally.\\r\\n- I\\'ve also been considering the requirement of downloading Python code and execute on your machine to\u001b[0m\n",
       "\u001b[32muse datasets. This can be an issue in a professional context. Downloading a CSV/H5 file is acceptable, downloading \u001b[0m\n",
       "\u001b[32man executable script can open many security issues. We certainly need a mechanism to at least \"freeze\" the dataset \u001b[0m\n",
       "\u001b[32mcode you retrieved once so that you can review it if you want and then be sure you use this one everywhere and not \u001b[0m\n",
       "\u001b[32ma version dowloaded from internet.\\r\\n \\r\\nWDYT? \u001b[0m\u001b[32m(\u001b[0m\u001b[32mthks\u001b[0m\u001b[32m)\u001b[0m\u001b[32m\\r\\n\\r\\n'\u001b[0m,\n",
       "    \u001b[32m'comment_length'\u001b[0m: \u001b[1;36m47\u001b[0m,\n",
       "    \u001b[32m'text'\u001b[0m: \u001b[32m'Discussion using datasets in offline mode \\n `datasets.load_dataset\u001b[0m\u001b[32m(\u001b[0m\u001b[32m\"csv\", ...\u001b[0m\u001b[32m)\u001b[0m\u001b[32m` breaks if you have no\u001b[0m\n",
       "\u001b[32mconnection \u001b[0m\u001b[32m(\u001b[0m\u001b[32mThere is already this issue https://github.com/huggingface/datasets/issues/761 about it\u001b[0m\u001b[32m)\u001b[0m\u001b[32m. It seems to \u001b[0m\n",
       "\u001b[32mbe the same for metrics too.\\r\\n\\r\\nI create this ticket to discuss a bit and gather what you have in mind or other\u001b[0m\n",
       "\u001b[32mpropositions.\\r\\n\\r\\nHere are some points to open discussion:\\r\\n- if you want to prepare your code/datasets on \u001b[0m\n",
       "\u001b[32myour machine \u001b[0m\u001b[32m(\u001b[0m\u001b[32mhaving internet connexion\u001b[0m\u001b[32m)\u001b[0m\u001b[32m but run it on another offline machine \u001b[0m\u001b[32m(\u001b[0m\u001b[32mnot having internet connexion\u001b[0m\u001b[32m)\u001b[0m\u001b[32m, it \u001b[0m\n",
       "\u001b[32mwon\\'t work as is, even if you have all files locally on this machine.\\r\\n- AFAIK, you can make it work if you \u001b[0m\n",
       "\u001b[32mmanually put the python files \u001b[0m\u001b[32m(\u001b[0m\u001b[32mcsv.py for example\u001b[0m\u001b[32m)\u001b[0m\u001b[32m on this offline machine and change your code to \u001b[0m\n",
       "\u001b[32m`datasets.load_dataset\u001b[0m\u001b[32m(\u001b[0m\u001b[32m\"MY_PATH/csv.py\", ...\u001b[0m\u001b[32m)\u001b[0m\u001b[32m`. But it would be much better if you could run ths same code without \u001b[0m\n",
       "\u001b[32mmodification if files are available locally.\\r\\n- I\\'ve also been considering the requirement of downloading Python\u001b[0m\n",
       "\u001b[32mcode and execute on your machine to use datasets. This can be an issue in a professional context. Downloading a \u001b[0m\n",
       "\u001b[32mCSV/H5 file is acceptable, downloading an executable script can open many security issues. We certainly need a \u001b[0m\n",
       "\u001b[32mmechanism to at least \"freeze\" the dataset code you retrieved once so that you can review it if you want and then \u001b[0m\n",
       "\u001b[32mbe sure you use this one everywhere and not a version dowloaded from internet.\\r\\n \\r\\nWDYT? \u001b[0m\u001b[32m(\u001b[0m\u001b[32mthks\u001b[0m\u001b[32m)\u001b[0m\u001b[32m\\r\\n\\r\\n \\n here\u001b[0m\n",
       "\u001b[32mis my way to load a dataset offline, but it **requires** an online machine\\r\\n1. \u001b[0m\u001b[32m(\u001b[0m\u001b[32monline machine\u001b[0m\u001b[32m)\u001b[0m\u001b[32m\\r\\n```\\r\\nimport \u001b[0m\n",
       "\u001b[32mdatasets\\r\\ndata = datasets.load_dataset\u001b[0m\u001b[32m(\u001b[0m\u001b[32m...\u001b[0m\u001b[32m)\u001b[0m\u001b[32m\\r\\ndata.save_to_disk\u001b[0m\u001b[32m(\u001b[0m\u001b[32m/YOUR/DATASET/DIR\u001b[0m\u001b[32m)\u001b[0m\u001b[32m\\r\\n```\\r\\n2. copy the dir \u001b[0m\n",
       "\u001b[32mfrom online to the offline machine\\r\\n3. \u001b[0m\u001b[32m(\u001b[0m\u001b[32moffline machine\u001b[0m\u001b[32m)\u001b[0m\u001b[32m\\r\\n```\\r\\nimport datasets\\r\\ndata = \u001b[0m\n",
       "\u001b[32mdatasets.load_from_disk\u001b[0m\u001b[32m(\u001b[0m\u001b[32m/SAVED/DATA/DIR\u001b[0m\u001b[32m)\u001b[0m\u001b[32m\\r\\n```\\r\\n\\r\\nHTH.'\u001b[0m\n",
       "\u001b[1m}\u001b[0m\n",
       "score: \u001b[1;36m0.8566680550575256\u001b[0m\n"
      ]
     },
     "metadata": {},
     "output_type": "display_data"
    },
    {
     "data": {
      "text/html": [
       "<pre style=\"white-space:pre;overflow-x:auto;line-height:normal;font-family:Menlo,'DejaVu Sans Mono',consolas,'Courier New',monospace\"><span style=\"font-weight: bold\">{</span>\n",
       "    <span style=\"color: #008000; text-decoration-color: #008000\">'html_url'</span>: <span style=\"color: #008000; text-decoration-color: #008000\">'https://github.com/huggingface/datasets/issues/824'</span>,\n",
       "    <span style=\"color: #008000; text-decoration-color: #008000\">'title'</span>: <span style=\"color: #008000; text-decoration-color: #008000\">'Discussion using datasets in offline mode'</span>,\n",
       "    <span style=\"color: #008000; text-decoration-color: #008000\">'comments'</span>: <span style=\"color: #008000; text-decoration-color: #008000\">\"Requiring online connection is a deal breaker in some cases unfortunately so it'd be great if </span>\n",
       "<span style=\"color: #008000; text-decoration-color: #008000\">offline mode is added similar to how `transformers` loads models offline fine.\\r\\n\\r\\n@mandubian's second bullet </span>\n",
       "<span style=\"color: #008000; text-decoration-color: #008000\">point suggests that there's a workaround allowing you to use your offline (custom?) dataset with `datasets`. Could </span>\n",
       "<span style=\"color: #008000; text-decoration-color: #008000\">you please elaborate on how that should look like?\"</span>,\n",
       "    <span style=\"color: #008000; text-decoration-color: #008000\">'body'</span>: <span style=\"color: #008000; text-decoration-color: #008000\">'`datasets.load_dataset(\"csv\", ...)` breaks if you have no connection (There is already this issue </span>\n",
       "<span style=\"color: #008000; text-decoration-color: #008000\">https://github.com/huggingface/datasets/issues/761 about it). It seems to be the same for metrics too.\\r\\n\\r\\nI </span>\n",
       "<span style=\"color: #008000; text-decoration-color: #008000\">create this ticket to discuss a bit and gather what you have in mind or other propositions.\\r\\n\\r\\nHere are some </span>\n",
       "<span style=\"color: #008000; text-decoration-color: #008000\">points to open discussion:\\r\\n- if you want to prepare your code/datasets on your machine (having internet </span>\n",
       "<span style=\"color: #008000; text-decoration-color: #008000\">connexion) but run it on another offline machine (not having internet connexion), it won\\'t work as is, even if you</span>\n",
       "<span style=\"color: #008000; text-decoration-color: #008000\">have all files locally on this machine.\\r\\n- AFAIK, you can make it work if you manually put the python files </span>\n",
       "<span style=\"color: #008000; text-decoration-color: #008000\">(csv.py for example) on this offline machine and change your code to `datasets.load_dataset(\"MY_PATH/csv.py\", </span>\n",
       "<span style=\"color: #008000; text-decoration-color: #008000\">...)`. But it would be much better if you could run ths same code without modification if files are available </span>\n",
       "<span style=\"color: #008000; text-decoration-color: #008000\">locally.\\r\\n- I\\'ve also been considering the requirement of downloading Python code and execute on your machine to</span>\n",
       "<span style=\"color: #008000; text-decoration-color: #008000\">use datasets. This can be an issue in a professional context. Downloading a CSV/H5 file is acceptable, downloading </span>\n",
       "<span style=\"color: #008000; text-decoration-color: #008000\">an executable script can open many security issues. We certainly need a mechanism to at least \"freeze\" the dataset </span>\n",
       "<span style=\"color: #008000; text-decoration-color: #008000\">code you retrieved once so that you can review it if you want and then be sure you use this one everywhere and not </span>\n",
       "<span style=\"color: #008000; text-decoration-color: #008000\">a version dowloaded from internet.\\r\\n \\r\\nWDYT? (thks)\\r\\n\\r\\n'</span>,\n",
       "    <span style=\"color: #008000; text-decoration-color: #008000\">'comment_length'</span>: <span style=\"color: #008080; text-decoration-color: #008080; font-weight: bold\">57</span>,\n",
       "    <span style=\"color: #008000; text-decoration-color: #008000\">'text'</span>: <span style=\"color: #008000; text-decoration-color: #008000\">'Discussion using datasets in offline mode \\n `datasets.load_dataset(\"csv\", ...)` breaks if you have no</span>\n",
       "<span style=\"color: #008000; text-decoration-color: #008000\">connection (There is already this issue https://github.com/huggingface/datasets/issues/761 about it). It seems to </span>\n",
       "<span style=\"color: #008000; text-decoration-color: #008000\">be the same for metrics too.\\r\\n\\r\\nI create this ticket to discuss a bit and gather what you have in mind or other</span>\n",
       "<span style=\"color: #008000; text-decoration-color: #008000\">propositions.\\r\\n\\r\\nHere are some points to open discussion:\\r\\n- if you want to prepare your code/datasets on </span>\n",
       "<span style=\"color: #008000; text-decoration-color: #008000\">your machine (having internet connexion) but run it on another offline machine (not having internet connexion), it </span>\n",
       "<span style=\"color: #008000; text-decoration-color: #008000\">won\\'t work as is, even if you have all files locally on this machine.\\r\\n- AFAIK, you can make it work if you </span>\n",
       "<span style=\"color: #008000; text-decoration-color: #008000\">manually put the python files (csv.py for example) on this offline machine and change your code to </span>\n",
       "<span style=\"color: #008000; text-decoration-color: #008000\">`datasets.load_dataset(\"MY_PATH/csv.py\", ...)`. But it would be much better if you could run ths same code without </span>\n",
       "<span style=\"color: #008000; text-decoration-color: #008000\">modification if files are available locally.\\r\\n- I\\'ve also been considering the requirement of downloading Python</span>\n",
       "<span style=\"color: #008000; text-decoration-color: #008000\">code and execute on your machine to use datasets. This can be an issue in a professional context. Downloading a </span>\n",
       "<span style=\"color: #008000; text-decoration-color: #008000\">CSV/H5 file is acceptable, downloading an executable script can open many security issues. We certainly need a </span>\n",
       "<span style=\"color: #008000; text-decoration-color: #008000\">mechanism to at least \"freeze\" the dataset code you retrieved once so that you can review it if you want and then </span>\n",
       "<span style=\"color: #008000; text-decoration-color: #008000\">be sure you use this one everywhere and not a version dowloaded from internet.\\r\\n \\r\\nWDYT? (thks)\\r\\n\\r\\n \\n </span>\n",
       "<span style=\"color: #008000; text-decoration-color: #008000\">Requiring online connection is a deal breaker in some cases unfortunately so it\\'d be great if offline mode is </span>\n",
       "<span style=\"color: #008000; text-decoration-color: #008000\">added similar to how `transformers` loads models offline fine.\\r\\n\\r\\n@mandubian\\'s second bullet point suggests </span>\n",
       "<span style=\"color: #008000; text-decoration-color: #008000\">that there\\'s a workaround allowing you to use your offline (custom?) dataset with `datasets`. Could you please </span>\n",
       "<span style=\"color: #008000; text-decoration-color: #008000\">elaborate on how that should look like?'</span>\n",
       "<span style=\"font-weight: bold\">}</span>\n",
       "score: <span style=\"color: #008080; text-decoration-color: #008080; font-weight: bold\">0.8541386723518372</span>\n",
       "</pre>\n"
      ],
      "text/plain": [
       "\u001b[1m{\u001b[0m\n",
       "    \u001b[32m'html_url'\u001b[0m: \u001b[32m'https://github.com/huggingface/datasets/issues/824'\u001b[0m,\n",
       "    \u001b[32m'title'\u001b[0m: \u001b[32m'Discussion using datasets in offline mode'\u001b[0m,\n",
       "    \u001b[32m'comments'\u001b[0m: \u001b[32m\"Requiring online connection is a deal breaker in some cases unfortunately so it'd be great if \u001b[0m\n",
       "\u001b[32moffline mode is added similar to how `transformers` loads models offline fine.\\r\\n\\r\\n@mandubian's second bullet \u001b[0m\n",
       "\u001b[32mpoint suggests that there's a workaround allowing you to use your offline \u001b[0m\u001b[32m(\u001b[0m\u001b[32mcustom?\u001b[0m\u001b[32m)\u001b[0m\u001b[32m dataset with `datasets`. Could \u001b[0m\n",
       "\u001b[32myou please elaborate on how that should look like?\"\u001b[0m,\n",
       "    \u001b[32m'body'\u001b[0m: \u001b[32m'`datasets.load_dataset\u001b[0m\u001b[32m(\u001b[0m\u001b[32m\"csv\", ...\u001b[0m\u001b[32m)\u001b[0m\u001b[32m` breaks if you have no connection \u001b[0m\u001b[32m(\u001b[0m\u001b[32mThere is already this issue \u001b[0m\n",
       "\u001b[32mhttps://github.com/huggingface/datasets/issues/761 about it\u001b[0m\u001b[32m)\u001b[0m\u001b[32m. It seems to be the same for metrics too.\\r\\n\\r\\nI \u001b[0m\n",
       "\u001b[32mcreate this ticket to discuss a bit and gather what you have in mind or other propositions.\\r\\n\\r\\nHere are some \u001b[0m\n",
       "\u001b[32mpoints to open discussion:\\r\\n- if you want to prepare your code/datasets on your machine \u001b[0m\u001b[32m(\u001b[0m\u001b[32mhaving internet \u001b[0m\n",
       "\u001b[32mconnexion\u001b[0m\u001b[32m)\u001b[0m\u001b[32m but run it on another offline machine \u001b[0m\u001b[32m(\u001b[0m\u001b[32mnot having internet connexion\u001b[0m\u001b[32m)\u001b[0m\u001b[32m, it won\\'t work as is, even if you\u001b[0m\n",
       "\u001b[32mhave all files locally on this machine.\\r\\n- AFAIK, you can make it work if you manually put the python files \u001b[0m\n",
       "\u001b[32m(\u001b[0m\u001b[32mcsv.py for example\u001b[0m\u001b[32m)\u001b[0m\u001b[32m on this offline machine and change your code to `datasets.load_dataset\u001b[0m\u001b[32m(\u001b[0m\u001b[32m\"MY_PATH/csv.py\", \u001b[0m\n",
       "\u001b[32m...\u001b[0m\u001b[32m)\u001b[0m\u001b[32m`. But it would be much better if you could run ths same code without modification if files are available \u001b[0m\n",
       "\u001b[32mlocally.\\r\\n- I\\'ve also been considering the requirement of downloading Python code and execute on your machine to\u001b[0m\n",
       "\u001b[32muse datasets. This can be an issue in a professional context. Downloading a CSV/H5 file is acceptable, downloading \u001b[0m\n",
       "\u001b[32man executable script can open many security issues. We certainly need a mechanism to at least \"freeze\" the dataset \u001b[0m\n",
       "\u001b[32mcode you retrieved once so that you can review it if you want and then be sure you use this one everywhere and not \u001b[0m\n",
       "\u001b[32ma version dowloaded from internet.\\r\\n \\r\\nWDYT? \u001b[0m\u001b[32m(\u001b[0m\u001b[32mthks\u001b[0m\u001b[32m)\u001b[0m\u001b[32m\\r\\n\\r\\n'\u001b[0m,\n",
       "    \u001b[32m'comment_length'\u001b[0m: \u001b[1;36m57\u001b[0m,\n",
       "    \u001b[32m'text'\u001b[0m: \u001b[32m'Discussion using datasets in offline mode \\n `datasets.load_dataset\u001b[0m\u001b[32m(\u001b[0m\u001b[32m\"csv\", ...\u001b[0m\u001b[32m)\u001b[0m\u001b[32m` breaks if you have no\u001b[0m\n",
       "\u001b[32mconnection \u001b[0m\u001b[32m(\u001b[0m\u001b[32mThere is already this issue https://github.com/huggingface/datasets/issues/761 about it\u001b[0m\u001b[32m)\u001b[0m\u001b[32m. It seems to \u001b[0m\n",
       "\u001b[32mbe the same for metrics too.\\r\\n\\r\\nI create this ticket to discuss a bit and gather what you have in mind or other\u001b[0m\n",
       "\u001b[32mpropositions.\\r\\n\\r\\nHere are some points to open discussion:\\r\\n- if you want to prepare your code/datasets on \u001b[0m\n",
       "\u001b[32myour machine \u001b[0m\u001b[32m(\u001b[0m\u001b[32mhaving internet connexion\u001b[0m\u001b[32m)\u001b[0m\u001b[32m but run it on another offline machine \u001b[0m\u001b[32m(\u001b[0m\u001b[32mnot having internet connexion\u001b[0m\u001b[32m)\u001b[0m\u001b[32m, it \u001b[0m\n",
       "\u001b[32mwon\\'t work as is, even if you have all files locally on this machine.\\r\\n- AFAIK, you can make it work if you \u001b[0m\n",
       "\u001b[32mmanually put the python files \u001b[0m\u001b[32m(\u001b[0m\u001b[32mcsv.py for example\u001b[0m\u001b[32m)\u001b[0m\u001b[32m on this offline machine and change your code to \u001b[0m\n",
       "\u001b[32m`datasets.load_dataset\u001b[0m\u001b[32m(\u001b[0m\u001b[32m\"MY_PATH/csv.py\", ...\u001b[0m\u001b[32m)\u001b[0m\u001b[32m`. But it would be much better if you could run ths same code without \u001b[0m\n",
       "\u001b[32mmodification if files are available locally.\\r\\n- I\\'ve also been considering the requirement of downloading Python\u001b[0m\n",
       "\u001b[32mcode and execute on your machine to use datasets. This can be an issue in a professional context. Downloading a \u001b[0m\n",
       "\u001b[32mCSV/H5 file is acceptable, downloading an executable script can open many security issues. We certainly need a \u001b[0m\n",
       "\u001b[32mmechanism to at least \"freeze\" the dataset code you retrieved once so that you can review it if you want and then \u001b[0m\n",
       "\u001b[32mbe sure you use this one everywhere and not a version dowloaded from internet.\\r\\n \\r\\nWDYT? \u001b[0m\u001b[32m(\u001b[0m\u001b[32mthks\u001b[0m\u001b[32m)\u001b[0m\u001b[32m\\r\\n\\r\\n \\n \u001b[0m\n",
       "\u001b[32mRequiring online connection is a deal breaker in some cases unfortunately so it\\'d be great if offline mode is \u001b[0m\n",
       "\u001b[32madded similar to how `transformers` loads models offline fine.\\r\\n\\r\\n@mandubian\\'s second bullet point suggests \u001b[0m\n",
       "\u001b[32mthat there\\'s a workaround allowing you to use your offline \u001b[0m\u001b[32m(\u001b[0m\u001b[32mcustom?\u001b[0m\u001b[32m)\u001b[0m\u001b[32m dataset with `datasets`. Could you please \u001b[0m\n",
       "\u001b[32melaborate on how that should look like?'\u001b[0m\n",
       "\u001b[1m}\u001b[0m\n",
       "score: \u001b[1;36m0.8541386723518372\u001b[0m\n"
      ]
     },
     "metadata": {},
     "output_type": "display_data"
    }
   ],
   "source": [
    "hits = client.search(\n",
    "    collection_name=\"github_issues\",\n",
    "    query_vector=list(embedding_model.embed(\"How can I load a dataset offline?\"))[0],\n",
    "    limit=3,\n",
    ")\n",
    "for hit in hits:\n",
    "    rich.print(hit.payload, \"score:\", hit.score)"
   ]
  },
  {
   "cell_type": "code",
   "execution_count": null,
   "metadata": {},
   "outputs": [],
   "source": []
  }
 ],
 "metadata": {
  "kernelspec": {
   "display_name": "mlops-sjgU-X9u-py3.11",
   "language": "python",
   "name": "python3"
  },
  "language_info": {
   "codemirror_mode": {
    "name": "ipython",
    "version": 3
   },
   "file_extension": ".py",
   "mimetype": "text/x-python",
   "name": "python",
   "nbconvert_exporter": "python",
   "pygments_lexer": "ipython3",
   "version": "3.11.9"
  }
 },
 "nbformat": 4,
 "nbformat_minor": 2
}
